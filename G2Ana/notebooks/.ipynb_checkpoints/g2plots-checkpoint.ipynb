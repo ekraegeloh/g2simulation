{
 "cells": [
  {
   "cell_type": "code",
   "execution_count": 1,
   "metadata": {
    "collapsed": true
   },
   "outputs": [],
   "source": [
    "import sys\n",
    "sys.path.insert(0, '/mnt/data/Eva/Simulation/SRKAnalysis/SRKAnalysis')\n",
    "sys.path.insert(1, '/usr/lib/root')\n",
    "import srkglobal\n",
    "import srkplotting"
   ]
  },
  {
   "cell_type": "code",
   "execution_count": 2,
   "metadata": {
    "collapsed": false
   },
   "outputs": [
    {
     "name": "stdout",
     "output_type": "stream",
     "text": [
      "['posX', 'posZ', 'velX', 'velZ', 'phi', 'theta']\n",
      "[[    0.             0.             0.         ...,     0.             0.\n",
      "      0.        ]\n",
      " [    0.             0.             0.         ...,     0.             0.\n",
      "      0.        ]\n",
      " [    0.             0.             0.         ...,     0.             0.\n",
      "      0.        ]\n",
      " [    0.             0.             0.         ...,     0.             0.\n",
      "      0.        ]\n",
      " [    1.57079633     1.54971398     1.52863163 ..., -1006.12340158\n",
      "  -1006.14448393 -1006.16556628]\n",
      " [    0.             0.             0.         ...,     0.             0.\n",
      "      0.        ]]\n",
      "(6, 47801)\n",
      "47801\n"
     ]
    }
   ],
   "source": [
    "srkglobal.set_computer(\"work_desktop\")\n",
    "arr = srkplotting.make_tree_to_array(3)\n",
    "print arr\n",
    "print arr.shape\n",
    "time_arr = srkplotting.make_timeline(3)\n",
    "print len(time_arr)"
   ]
  },
  {
   "cell_type": "code",
   "execution_count": null,
   "metadata": {
    "collapsed": true
   },
   "outputs": [],
   "source": [
    "srkplotting.plot_single(test, arr[4], time_arr, titleY = False, legend = False)"
   ]
  }
 ],
 "metadata": {
  "kernelspec": {
   "display_name": "Python 2",
   "language": "python2",
   "name": "python2"
  },
  "language_info": {
   "codemirror_mode": {
    "name": "ipython",
    "version": 2
   },
   "file_extension": ".py",
   "mimetype": "text/x-python",
   "name": "python",
   "nbconvert_exporter": "python",
   "pygments_lexer": "ipython2",
   "version": "2.7.13"
  }
 },
 "nbformat": 4,
 "nbformat_minor": 2
}
