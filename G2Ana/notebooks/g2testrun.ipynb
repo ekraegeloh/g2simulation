{
 "cells": [
  {
   "cell_type": "code",
   "execution_count": 1,
   "metadata": {},
   "outputs": [
    {
     "name": "stdout",
     "output_type": "stream",
     "text": [
      "Welcome to JupyROOT 6.12/06\n"
     ]
    }
   ],
   "source": [
    "import sys\n",
    "sys.path.insert(0, '/home/work/Simulation/G2/G2Ana/SRKAnalysis')\n",
    "#sys.path.insert(1, '/opt/root6/lib')\n",
    "import srkdata \n",
    "import srkmisc \n",
    "import srkmultiprocessing \n",
    "import srkanalysis \n",
    "import sqlite3 \n",
    "import numpy as np \n",
    "from datetime import date \n",
    "import time \n",
    "import srkglobal"
   ]
  },
  {
   "cell_type": "code",
   "execution_count": 4,
   "metadata": {},
   "outputs": [
    {
     "data": {
      "text/plain": [
       "299617990.83240759"
      ]
     },
     "execution_count": 4,
     "metadata": {},
     "output_type": "execute_result"
    }
   ],
   "source": [
    "chargeToMassRatio = 1.6021766208e-19 / 1.883531594e-28\n",
    "#gamma = np.sqrt(1 + (startMom/(1.883531594e-28*299792458.))**2)\n",
    "#startVel = startMom/(gamma*s['Mass'])\n",
    "#r = startVel*gamma/(chargeToMassRatio*1.4513)\n",
    "#r\n",
    "#startMom = 1.6537e-18*0.995\n",
    "#gamma = np.sqrt(1 + (startMom/(1.883531594e-28*299792458.))**2)\n",
    "#startVel = startMom/(gamma*s['Mass'])\n",
    "#startVel\n",
    "rad = 7.115\n",
    "B = 1.4513\n",
    "c = 299792458.\n",
    "startVel = np.sqrt((rad*chargeToMassRatio*B)**2/(1 + (rad*chargeToMassRatio*B/c)**2))\n",
    "startVel"
   ]
  },
  {
   "cell_type": "code",
   "execution_count": 2,
   "metadata": {},
   "outputs": [
    {
     "data": {
      "text/plain": [
       "299617841.64715862"
      ]
     },
     "execution_count": 2,
     "metadata": {},
     "output_type": "execute_result"
    }
   ],
   "source": [
    "s = srkdata.default_srk_settings(\"g2full\")\n",
    "chargeToMassRatio = 1.6021766208e-19 / 1.883531594e-28\n",
    "B = 1.4513\n",
    "c = 299792458\n",
    "startMom = 1.6537e-18\n",
    "gamma = np.sqrt(1 + (startMom/(1.883531594e-28*299792458.))**2)\n",
    "startVel = startMom/(gamma*s['Mass'])\n",
    "r_m = startVel*gamma/(chargeToMassRatio*B)\n",
    "startVel\n",
    "#r_m"
   ]
  },
  {
   "cell_type": "code",
   "execution_count": 18,
   "metadata": {},
   "outputs": [
    {
     "name": "stdout",
     "output_type": "stream",
     "text": [
      "647638.576022\n",
      "299617141.695\n",
      "299617841.647\n"
     ]
    }
   ],
   "source": [
    "Mom_abs = 1.6537e-18*0.998\n",
    "gamma_abs = np.sqrt(1 + (Mom_abs/(1.883531594e-28*299792458.))**2)\n",
    "v_abs = Mom_abs/(gamma_abs*s['Mass'])\n",
    "vy = np.sqrt(startVel**2 - v_abs**2)\n",
    "np.arctan2(vy, v_abs)\n",
    "print vy\n",
    "print v_abs\n",
    "print np.sqrt(vy**2 + v_abs**2)"
   ]
  },
  {
   "cell_type": "code",
   "execution_count": 3,
   "metadata": {},
   "outputs": [
    {
     "name": "stdout",
     "output_type": "stream",
     "text": [
      "Insert String: INSERT INTO RunLog(BSextFieldStrength,NumTracks,SRKVersion,EPSRel,ChamberRotation,EFieldStrength,E0FieldDirection,InitialVel,EPSAbs,ESextFieldAxis,BFieldStrength,RandomSeed,ESextFieldDirection,PeriodicStopTime,GyromagneticRatio,Title,ChamberRadius,E0FieldStrength,EGradFieldStrength,Date,B0FieldStrength,EQuadFieldDirection,TimeLimit,BSextFieldDirection,TrackFilePath,ManualTracking,EQuadFieldAxis,Use2D,Mass,ChamberHeight,RunType,Run,RecordPeriodicSteps,UseAltStepping,EQuadFieldStrength,BSextFieldAxis,B0FieldDirection,InitialMag,InitialPos,InitialStepSize,BGradFieldStrength,BQuadFieldAxis,BQuadFieldStrength,ConstStepper,ESextFieldStrength) Values (?,?,?,?,?,?,?,?,?,?,?,?,?,?,?,?,?,?,?,?,?,?,?,?,?,?,?,?,?,?,?,?,?,?,?,?,?,?,?,?,?,?,?,?,?)\n",
      "\n",
      "Values: \n",
      "(0.0, 1, 'Tims version', 1e-11, '0 0 0', 4800000.0, '0 1 0', '0 0 299617841.647', 1e-11, '0 0 -1', -1.4513, 0, '1 0 0', 1e-09, 0.00116592091, 'g-2 tipped B0 test - z 1 ppm', 10000000000.0, 0.0, 0.0, '04/05/19', 1.4513, '1 0 0', 1e-05, '1 0 0', '!dynamic', 1, '0 0 -1', 0, 1.883531594e-28, 10000000000.0, 'g-2_radial', 78, 1, 0, 0.0, '0 0 -1', '0 1 1e-6', '0 0 1', '7.112 0 0', 1e-11, 0.0, '0 0 -1', 0.0, 1, 0.0)\n",
      "/home/work/Simulation/G2/G2Out/macros/RID78.mac created.\n",
      "\n",
      "/home/work/Simulation/G2/G2Sim/Debug/G2Sim /home/work/Simulation/G2/G2Out/macros/RID78.mac > /home/work/Simulation/G2/G2Out/logs/logRID78.txt\n",
      "Update String: UPDATE RunLog SET ResultsFilePath=?WHERE Run=78\n",
      "\n",
      "Values: \n",
      "('/home/work/Simulation/G2/G2Out/results/Results_RID78.root',)\n",
      "Insert String: INSERT INTO RunLog(BSextFieldStrength,NumTracks,SRKVersion,EPSRel,ChamberRotation,EFieldStrength,E0FieldDirection,InitialVel,EPSAbs,ESextFieldAxis,BFieldStrength,RandomSeed,ESextFieldDirection,PeriodicStopTime,GyromagneticRatio,Title,ChamberRadius,E0FieldStrength,EGradFieldStrength,Date,B0FieldStrength,EQuadFieldDirection,TimeLimit,BSextFieldDirection,TrackFilePath,ManualTracking,EQuadFieldAxis,Use2D,Mass,ChamberHeight,RunType,Run,RecordPeriodicSteps,UseAltStepping,EQuadFieldStrength,BSextFieldAxis,B0FieldDirection,InitialMag,InitialPos,InitialStepSize,BGradFieldStrength,BQuadFieldAxis,BQuadFieldStrength,ConstStepper,ESextFieldStrength) Values (?,?,?,?,?,?,?,?,?,?,?,?,?,?,?,?,?,?,?,?,?,?,?,?,?,?,?,?,?,?,?,?,?,?,?,?,?,?,?,?,?,?,?,?,?)\n",
      "\n",
      "Values: \n",
      "(0.0, 1, 'Tims version', 1e-11, '0 0 0', 4800000.0, '0 1 0', '0 0 299617841.647', 1e-11, '0 0 -1', -1.4513, 0, '1 0 0', 1e-09, 0.00116592091, 'g-2 tipped B0 test - z 1 ppm', 10000000000.0, 0.0, 0.0, '04/05/19', 1.4513, '1 0 0', 1e-05, '1 0 0', '!dynamic', 1, '0 0 -1', 0, 1.883531594e-28, 10000000000.0, 'g-2_radial', 79, 1, 0, 0.0, '0 0 -1', '0 1 1e-6', '0 0 1', '7.122 0 0', 1e-11, 0.0, '0 0 -1', 0.0, 1, 0.0)\n",
      "/home/work/Simulation/G2/G2Out/macros/RID79.mac created.\n",
      "\n",
      "/home/work/Simulation/G2/G2Sim/Debug/G2Sim /home/work/Simulation/G2/G2Out/macros/RID79.mac > /home/work/Simulation/G2/G2Out/logs/logRID79.txt\n",
      "Update String: UPDATE RunLog SET ResultsFilePath=?WHERE Run=79\n",
      "\n",
      "Values: \n",
      "('/home/work/Simulation/G2/G2Out/results/Results_RID79.root',)\n",
      "Insert String: INSERT INTO RunLog(BSextFieldStrength,NumTracks,SRKVersion,EPSRel,ChamberRotation,EFieldStrength,E0FieldDirection,InitialVel,EPSAbs,ESextFieldAxis,BFieldStrength,RandomSeed,ESextFieldDirection,PeriodicStopTime,GyromagneticRatio,Title,ChamberRadius,E0FieldStrength,EGradFieldStrength,Date,B0FieldStrength,EQuadFieldDirection,TimeLimit,BSextFieldDirection,TrackFilePath,ManualTracking,EQuadFieldAxis,Use2D,Mass,ChamberHeight,RunType,Run,RecordPeriodicSteps,UseAltStepping,EQuadFieldStrength,BSextFieldAxis,B0FieldDirection,InitialMag,InitialPos,InitialStepSize,BGradFieldStrength,BQuadFieldAxis,BQuadFieldStrength,ConstStepper,ESextFieldStrength) Values (?,?,?,?,?,?,?,?,?,?,?,?,?,?,?,?,?,?,?,?,?,?,?,?,?,?,?,?,?,?,?,?,?,?,?,?,?,?,?,?,?,?,?,?,?)\n",
      "\n",
      "Values: \n",
      "(0.0, 1, 'Tims version', 1e-11, '0 0 0', 4800000.0, '0 1 0', '0 0 299617841.647', 1e-11, '0 0 -1', -1.4513, 0, '1 0 0', 1e-09, 0.00116592091, 'g-2 tipped B0 test - z 1 ppm', 10000000000.0, 0.0, 0.0, '04/05/19', 1.4513, '1 0 0', 1e-05, '1 0 0', '!dynamic', 1, '0 0 -1', 0, 1.883531594e-28, 10000000000.0, 'g-2_radial', 80, 1, 0, 0.0, '0 0 -1', '0 1 1e-6', '0 0 1', '7.112 0.01 0', 1e-11, 0.0, '0 0 -1', 0.0, 1, 0.0)\n",
      "/home/work/Simulation/G2/G2Out/macros/RID80.mac created.\n",
      "\n",
      "/home/work/Simulation/G2/G2Sim/Debug/G2Sim /home/work/Simulation/G2/G2Out/macros/RID80.mac > /home/work/Simulation/G2/G2Out/logs/logRID80.txt\n",
      "Update String: UPDATE RunLog SET ResultsFilePath=?WHERE Run=80\n",
      "\n",
      "Values: \n",
      "('/home/work/Simulation/G2/G2Out/results/Results_RID80.root',)\n"
     ]
    },
    {
     "name": "stderr",
     "output_type": "stream",
     "text": [
      "Info in <TGeoManager::TGeoManager>: Geometry theManager, SRK Simulation Geometry created\n",
      "Warning in <TVector3::SetMag>: zero vector can't be stretched\n",
      "Warning in <TVector3::SetMag>: zero vector can't be stretched\n",
      "Warning in <TVector3::SetMag>: zero vector can't be stretched\n",
      "Warning in <TVector3::SetMag>: zero vector can't be stretched\n",
      "Info in <TGeoManager::SetTopVolume>: Top volume is world. Master volume is world\n",
      "Info in <TGeoNavigator::BuildCache>: --- Maximum geometry depth set to 100\n",
      "Info in <TGeoManager::CheckGeometry>: Fixing runtime shapes...\n",
      "Info in <TGeoManager::CheckGeometry>: ...Nothing to fix\n",
      "Info in <TGeoManager::CloseGeometry>: Counting nodes...\n",
      "Info in <TGeoManager::Voxelize>: Voxelizing...\n",
      "Info in <TGeoManager::CloseGeometry>: Building cache...\n",
      "Info in <TGeoManager::CountLevels>: max level = 1, max placements = 1\n",
      "Info in <TGeoManager::CloseGeometry>: 2 nodes/ 2 volume UID's in SRK Simulation Geometry\n",
      "Info in <TGeoManager::CloseGeometry>: ----------------modeler ready----------------\n",
      "Info in <TGeoManager::TGeoManager>: Geometry theManager, SRK Simulation Geometry created\n",
      "Warning in <TVector3::SetMag>: zero vector can't be stretched\n",
      "Warning in <TVector3::SetMag>: zero vector can't be stretched\n",
      "Warning in <TVector3::SetMag>: zero vector can't be stretched\n",
      "Warning in <TVector3::SetMag>: zero vector can't be stretched\n",
      "Info in <TGeoManager::SetTopVolume>: Top volume is world. Master volume is world\n",
      "Info in <TGeoNavigator::BuildCache>: --- Maximum geometry depth set to 100\n",
      "Info in <TGeoManager::CheckGeometry>: Fixing runtime shapes...\n",
      "Info in <TGeoManager::CheckGeometry>: ...Nothing to fix\n",
      "Info in <TGeoManager::CloseGeometry>: Counting nodes...\n",
      "Info in <TGeoManager::Voxelize>: Voxelizing...\n",
      "Info in <TGeoManager::CloseGeometry>: Building cache...\n",
      "Info in <TGeoManager::CountLevels>: max level = 1, max placements = 1\n",
      "Info in <TGeoManager::CloseGeometry>: 2 nodes/ 2 volume UID's in SRK Simulation Geometry\n",
      "Info in <TGeoManager::CloseGeometry>: ----------------modeler ready----------------\n",
      "Info in <TGeoManager::TGeoManager>: Geometry theManager, SRK Simulation Geometry created\n",
      "Warning in <TVector3::SetMag>: zero vector can't be stretched\n",
      "Warning in <TVector3::SetMag>: zero vector can't be stretched\n",
      "Warning in <TVector3::SetMag>: zero vector can't be stretched\n",
      "Warning in <TVector3::SetMag>: zero vector can't be stretched\n",
      "Info in <TGeoManager::SetTopVolume>: Top volume is world. Master volume is world\n",
      "Info in <TGeoNavigator::BuildCache>: --- Maximum geometry depth set to 100\n",
      "Info in <TGeoManager::CheckGeometry>: Fixing runtime shapes...\n",
      "Info in <TGeoManager::CheckGeometry>: ...Nothing to fix\n",
      "Info in <TGeoManager::CloseGeometry>: Counting nodes...\n",
      "Info in <TGeoManager::Voxelize>: Voxelizing...\n",
      "Info in <TGeoManager::CloseGeometry>: Building cache...\n",
      "Info in <TGeoManager::CountLevels>: max level = 1, max placements = 1\n",
      "Info in <TGeoManager::CloseGeometry>: 2 nodes/ 2 volume UID's in SRK Simulation Geometry\n",
      "Info in <TGeoManager::CloseGeometry>: ----------------modeler ready----------------\n"
     ]
    }
   ],
   "source": [
    "start_time = time.time()\n",
    "today = date.today()\n",
    "\n",
    "s = srkdata.default_srk_settings(\"g2full\")\n",
    "r = srkdata.default_run_settings(\"g2full\")\n",
    "srkglobal.set_computer(\"home_laptop\")\n",
    "\n",
    "# SRK settings and run settings\n",
    "r['Title'] = \"g-2 tipped B0 test - z 1 ppm\"\n",
    "r['SRKVersion'] = 'Tims version'\n",
    "r['Date'] = today.strftime('%m/%d/%y')\n",
    "r['NumTracks'] = 1\n",
    "s['EPSAbs'] = 1e-11\n",
    "s['EPSRel'] = 1e-11\n",
    "s['PeriodicStopTime'] = 1e-9\n",
    "s['InitialStepSize'] = 1e-11\n",
    "s['TimeLimit'] = 1e-5\n",
    "s['B0FieldStrength'] = 1.4513\n",
    "s['EFieldStrength'] = 4.8e6\n",
    "#s['EFieldStrength'] = 0.0\n",
    "#s['ConstStepper'] = 0\n",
    "#s['DefaultMag'] = '1 0 0'\n",
    "\n",
    "title = [\"baseline\", \"radial\", \"vertical\"]\n",
    "startPos = [(7.112,0,0), (7.122,0,0), (7.112,0.01,0)]\n",
    "startMom = 1.6537e-18\n",
    "gamma = np.sqrt(1 + (startMom/(1.883531594e-28*299792458.))**2)\n",
    "startVel = startMom/(gamma*s['Mass'])\n",
    "\n",
    "for i in range(3):#[2]:\n",
    "#    r['RunType'] = 'g-2_'+title[i]\n",
    "    r['RunType'] = 'g-2_radial'\n",
    "    s['DefaultPos'] = str(startPos[i][0])+' '+str(startPos[i][1])+' '+str(startPos[i][2])\n",
    "    s['DefaultVel'] = '0 0 '+str(startVel)\n",
    "#    s['DefaultVel'] = '0 '+str(vy)+' '+str(v_abs)\n",
    "#    s['DefaultVel'] = '-423085.91539675382 0 299617542.93080175'\n",
    "#    s['DefaultVel'] = '40327.205 0 299617838.933'\n",
    "#    s['DefaultVel'] = '0 -167464.022 299617794.9'\n",
    "    s['B0FieldDirection'] = '0 1 1e-6'\n",
    "\n",
    "    srkdata.make_and_run(s,r)\n",
    "#        time.sleep(2) # To make time for results file update"
   ]
  },
  {
   "cell_type": "code",
   "execution_count": null,
   "metadata": {},
   "outputs": [],
   "source": [
    "start_time = time.time()\n",
    "today = date.today()\n",
    "\n",
    "s = srkdata.default_srk_settings(\"g2\")\n",
    "r = srkdata.default_run_settings(\"g2\")\n",
    "srkglobal.set_computer(\"work_desktop\")\n",
    "\n",
    "# SRK settings and run settings\n",
    "r['Title'] = \"g-2 full measurement period\"\n",
    "r['SRKVersion'] = 'with float128, E-field, additional vxE term, gyro=amu'\n",
    "r['Date'] = today.strftime('%m/%d/%y')\n",
    "r['NumTracks'] = 1\n",
    "s['EPSAbs'] = 1e-09\n",
    "s['EPSRel'] = 1e-09\n",
    "s['PeriodicStopTime'] = 5e-11#12\n",
    "s['InitialStepSize'] = 2e-12#13\n",
    "s['B0FieldStrength'] = -1.4513\n",
    "s['BQuadFieldStrength'] = 0\n",
    "s['DefaultPos'] = '0 0 0'\n",
    "\n",
    "titles = [\"Baseline\", \"OscillationX\", \"OscillationZ\", \"Spiral\", \"OscillationX\", \"OscillationZ\", \"Spiral\"]\n",
    "startPos = [(0,0), (0.01,0), (0,0.01), (0.01,0.01)]\n",
    "#startVel = [(0,0), (-1.1466e7,0), (0,-4.5685e6), (-1.1466e7,-4.5685e6)]\n",
    "BFields = [(0,0), (-8378537.34,0), (0,-0.00063), (-8378537.34,-0.00063)]\n",
    "\n",
    "for i in range(4):\n",
    "    r['RunType'] = 'g-2_'+titles[i]\n",
    "    s['DefaultPos'] = str(startPos[i][0])+' 0 '+str(startPos[i][1])\n",
    "    for j in range(4):\n",
    "        s['EQuadFieldStrength'] = BFields[j][0]\n",
    "        s['BSextFieldStrength'] = BFields[j][1]\n",
    "\n",
    "# Create runs for different wall depolarization probabilities\n",
    "#wall_depol=srkmisc.even_sample_over_log(0.000001, 0.00001, 4)\n",
    "#for x in wall_depol:\n",
    "#    s['DepolAtWallProb'] = x\n",
    "    # Adds the run to the database, makes the macro, \n",
    "    # syncs it to Optima server, and runs it on Optima\n",
    "#    srkdata.make_and_run(s,r,\"optima\") \n",
    "#    time.sleep(2) # To ensure random seeds will be different\n",
    "\n",
    "        srkdata.make_and_run(s,r)\n",
    "#        time.sleep(2) # To make time for results file update"
   ]
  },
  {
   "cell_type": "code",
   "execution_count": null,
   "metadata": {},
   "outputs": [],
   "source": []
  }
 ],
 "metadata": {
  "kernelspec": {
   "display_name": "Python 2",
   "language": "python",
   "name": "python2"
  },
  "language_info": {
   "codemirror_mode": {
    "name": "ipython",
    "version": 2
   },
   "file_extension": ".py",
   "mimetype": "text/x-python",
   "name": "python",
   "nbconvert_exporter": "python",
   "pygments_lexer": "ipython2",
   "version": "2.7.12"
  }
 },
 "nbformat": 4,
 "nbformat_minor": 1
}
